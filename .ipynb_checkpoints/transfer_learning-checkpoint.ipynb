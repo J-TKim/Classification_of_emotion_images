{
 "cells": [
  {
   "cell_type": "code",
   "execution_count": 10,
   "metadata": {},
   "outputs": [],
   "source": [
    "import numpy as np\n",
    "\n",
    "import torch\n",
    "import torchvision\n",
    "from torchvision import transforms\n",
    "from torch.utils.data import DataLoader\n",
    "from tqdm.autonotebook import tqdm\n",
    "from torch.utils.data.sampler import SubsetRandomSampler"
   ]
  },
  {
   "cell_type": "code",
   "execution_count": 2,
   "metadata": {},
   "outputs": [],
   "source": [
    "def normalization_parameter(dataloader):\n",
    "    mean = 0.\n",
    "    std = 0.\n",
    "    nb_samples = len(dataloader.dataset)\n",
    "    for data,_ in tqdm(dataloader):\n",
    "        batch_samples = data.size(0)\n",
    "        data = data.view(batch_samples, data.size(1), -1)\n",
    "        mean += data.mean(2).sum(0)\n",
    "        std += data.std(2).sum(0)\n",
    "    mean /= nb_samples\n",
    "    std /= nb_samples\n",
    "    return mean.numpy(),std.numpy()"
   ]
  },
  {
   "cell_type": "code",
   "execution_count": 3,
   "metadata": {},
   "outputs": [
    {
     "data": {
      "application/vnd.jupyter.widget-view+json": {
       "model_id": "5172e41a1d564a39b3602e89ac2dea63",
       "version_major": 2,
       "version_minor": 0
      },
      "text/plain": [
       "HBox(children=(FloatProgress(value=0.0, max=225.0), HTML(value='')))"
      ]
     },
     "metadata": {},
     "output_type": "display_data"
    },
    {
     "name": "stdout",
     "output_type": "stream",
     "text": [
      "\n"
     ]
    }
   ],
   "source": [
    "im_size = 150\n",
    "batch_size = 8\n",
    "\n",
    "train_transforms = transforms.Compose([\n",
    "                                        transforms.Resize((im_size,im_size)),\n",
    "                                        transforms.ToTensor()])\n",
    "train_data = torchvision.datasets.ImageFolder(root = '../dataset/emotion6/train', transform = train_transforms)\n",
    "train_loader =  DataLoader(train_data, batch_size = batch_size , shuffle = True)\n",
    "mean,std = normalization_parameter(train_loader)"
   ]
  },
  {
   "cell_type": "code",
   "execution_count": 4,
   "metadata": {},
   "outputs": [],
   "source": [
    "train_transforms = transforms.Compose([\n",
    "                                        transforms.Resize((im_size,im_size)),\n",
    "                                        transforms.RandomResizedCrop(size=315, scale=(0.95, 1.0)),\n",
    "                                        transforms.RandomRotation(degrees=10),\n",
    "                                        transforms.RandomHorizontalFlip(),\n",
    "                                        transforms.CenterCrop(size=299),  # Image net standards\n",
    "                                        transforms.ToTensor(),\n",
    "                                        transforms.Normalize(mean,std)])\n",
    "test_transforms = transforms.Compose([\n",
    "                                        transforms.Resize((im_size,im_size)),\n",
    "                                        transforms.ToTensor(),\n",
    "                                        transforms.Normalize(mean,std)])"
   ]
  },
  {
   "cell_type": "code",
   "execution_count": 11,
   "metadata": {},
   "outputs": [],
   "source": [
    "#We need to pass path to folder containing folders of classes\n",
    "train_data = torchvision.datasets.ImageFolder(root = '../dataset/emotion6/train', transform = train_transforms)\n",
    "test_data = torchvision.datasets.ImageFolder(root = '../dataset/emotion6/test', transform = test_transforms)\n",
    "\n",
    "def data_loader(train_data,test_data = None , valid_size = None , batch_size = 32):\n",
    "    train_loader =  DataLoader(train_data, batch_size = batch_size , shuffle = True)\n",
    "    \n",
    "    if(test_data == None and valid_size == None):\n",
    "        dataloaders = {'train':train_loader}\n",
    "        return dataloaders\n",
    "    \n",
    "    if(test_data == None and valid_size!=None):\n",
    "        data_len = len(train_data)\n",
    "        indices = list(range(data_len))\n",
    "        np.random.shuffle(indices)\n",
    "        split1 = int(np.floor(valid_size * data_len))\n",
    "        valid_idx , test_idx = indices[:split1], indices[split1:]\n",
    "        valid_sampler = SubsetRandomSampler(valid_idx)\n",
    "        valid_loader = DataLoader(train_data, batch_size= batch_size, sampler=valid_sampler)\n",
    "        dataloaders = {'train':train_loader,'val':valid_loader}\n",
    "        return dataloaders\n",
    "    \n",
    "    if(test_data != None and valid_size!=None):\n",
    "        data_len = len(test_data)\n",
    "        indices = list(range(data_len))\n",
    "        np.random.shuffle(indices)\n",
    "        split1 = int(np.floor(valid_size * data_len))\n",
    "        valid_idx , test_idx = indices[:split1], indices[split1:]\n",
    "        valid_sampler = SubsetRandomSampler(valid_idx)\n",
    "        test_sampler = SubsetRandomSampler(test_idx)\n",
    "        valid_loader = DataLoader(test_data, batch_size= batch_size, sampler=valid_sampler)\n",
    "        test_loader = DataLoader(test_data, batch_size= batch_size, sampler=test_sampler)\n",
    "        dataloaders = {'train':train_loader,'val':valid_loader,'test':test_loader}\n",
    "        \n",
    "        return dataloaders"
   ]
  },
  {
   "cell_type": "code",
   "execution_count": 13,
   "metadata": {},
   "outputs": [],
   "source": [
    "dataloaders = data_loader(train_data,test_data , valid_size = 0.2 , batch_size = batch_size)\n",
    "classes = train_data.classes"
   ]
  }
 ],
 "metadata": {
  "kernelspec": {
   "display_name": "Python 3",
   "language": "python",
   "name": "python3"
  },
  "language_info": {
   "codemirror_mode": {
    "name": "ipython",
    "version": 3
   },
   "file_extension": ".py",
   "mimetype": "text/x-python",
   "name": "python",
   "nbconvert_exporter": "python",
   "pygments_lexer": "ipython3",
   "version": "3.6.9"
  }
 },
 "nbformat": 4,
 "nbformat_minor": 4
}
